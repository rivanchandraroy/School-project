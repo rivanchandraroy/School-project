{
 "cells": [
  {
   "cell_type": "markdown",
   "metadata": {},
   "source": [
    "#### Data Merging\n",
    "\n",
    "This file is to merge data from purple air sensor. <br>\n",
    "Purple air sensor makes separate csv file for each day. This code performs merge on those."
   ]
  },
  {
   "cell_type": "code",
   "execution_count": null,
   "metadata": {},
   "outputs": [],
   "source": [
    "import pandas as pd\n",
    "import glob\n",
    "import os\n",
    "import re\n",
    "\n",
    "import re\n",
    "import pandas as pd\n",
    "import os\n",
    "import pytz\n",
    "import numpy as np\n",
    "import matplotlib.pyplot as plt\n",
    "from tqdm.notebook import tqdm\n",
    "import warnings\n",
    "from concurrent.futures import ThreadPoolExecutor"
   ]
  },
  {
   "cell_type": "markdown",
   "metadata": {},
   "source": [
    "#### Data Merging"
   ]
  },
  {
   "cell_type": "code",
   "execution_count": null,
   "metadata": {},
   "outputs": [],
   "source": [
    "\n",
    "def merge(dir):\n",
    "    \"\"\"Function to merge data\n",
    "    args:\n",
    "        dir: folder directory containing csv files\n",
    "    \n",
    "    \"\"\"\n",
    "\n",
    "    print(f'Merging for {dir}')\n",
    "    print('='*50)\n",
    "\n",
    "    path = dir\n",
    "\n",
    "    # Print the path for debugging\n",
    "    print(f\"Looking for CSV files in: {path}\")\n",
    "\n",
    "    # Use glob to get all the CSV files in the directory\n",
    "    all_files = glob.glob(os.path.join(path, \"*.csv\"))\n",
    "\n",
    "\n",
    "    # Initialize an empty list to hold the DataFrames\n",
    "    df_list = []\n",
    "\n",
    "    # Loop through the list of files and read each file into a DataFrame\n",
    "    print(\"Reading file...\")\n",
    "    for file in tqdm(all_files):\n",
    "        try:\n",
    "            df = pd.read_csv(file, encoding='ascii')\n",
    "            df_list.append(df)\n",
    "        except Exception as e:\n",
    "            print(f\"Error reading {file}: {e}\")\n",
    "\n",
    "    # Check if df_list is still empty after the loop\n",
    "    if len(df_list) == 0:\n",
    "        raise ValueError(\"No DataFrames were created. Check if the CSV files are valid and readable.\")\n",
    "\n",
    "    # Concatenate all the DataFrames in the list into a single DataFrame\n",
    "    try:\n",
    "        merged_df = pd.concat(df_list, ignore_index=True)\n",
    "    except Exception as e:\n",
    "        raise ValueError(f\"Error concatenating DataFrames: {e}\")\n",
    "\n",
    "    merged_df['UTCDateTime'] = pd.to_datetime(merged_df['UTCDateTime'])\n",
    "    \n",
    "    target_dir = \"merged\"\n",
    "    file_path = os.path.join(target_dir, f\"{dir.split('\\\\')[-1]}.csv\")\n",
    "    try:\n",
    "        merged_df.to_csv(file_path, index = False)\n",
    "    except Exception as e:\n",
    "        print(\"Error in saving file...\")\n",
    "        print(e)\n",
    "        while True:\n",
    "            print(\"1. Retry\")\n",
    "            print(\"2. Skip\")\n",
    "            option = int(input())\n",
    "            if option == 1:\n",
    "                try: \n",
    "                    merged_df.to_csv(file_path, index = False)\n",
    "                except Exception as e:\n",
    "                    print(\"Error again\", e)\n",
    "                    continue\n",
    "            elif option == 2:\n",
    "                break\n",
    "            else:\n",
    "                print(\"invalid input\")\n",
    "                continue\n",
    "\n",
    "\n",
    "    print(f'file saved : {file_path}')\n",
    "\n",
    "    # length = merged_df.shape[0]\n",
    "    # atmdata = length - merged_df['pm2_5_atm_avg'].isna().sum()\n",
    "    # cfdata = length - merged_df['pm2_5_cf_1_avg'].isna().sum()\n",
    "\n",
    "    # return atmdata/length*100, cfdata/length*100, length\n",
    "\n",
    "\n",
    "# merge(\"Ajimpur home data\", \"indoor Sensor No 12\")"
   ]
  },
  {
   "cell_type": "code",
   "execution_count": null,
   "metadata": {},
   "outputs": [],
   "source": [
    "dir = 'data'\n",
    "locations = [f for f in os.listdir(dir) if os.path.isdir(os.path.join(dir, f))]\n",
    "\n",
    "\n",
    "\n",
    "for location in tqdm(locations):\n",
    "        if os.path.exists(os.path.join(\"merged\", f\"{location}.csv\")):\n",
    "            print(f\"File already exists for {location}, skipping...\")\n",
    "            continue\n",
    "        merge(os.path.join(dir, location))\n"
   ]
  }
 ],
 "metadata": {
  "kernelspec": {
   "display_name": "Python(all_in_one)",
   "language": "python",
   "name": "all_in_one"
  },
  "language_info": {
   "codemirror_mode": {
    "name": "ipython",
    "version": 3
   },
   "file_extension": ".py",
   "mimetype": "text/x-python",
   "name": "python",
   "nbconvert_exporter": "python",
   "pygments_lexer": "ipython3",
   "version": "3.12.10"
  }
 },
 "nbformat": 4,
 "nbformat_minor": 2
}
